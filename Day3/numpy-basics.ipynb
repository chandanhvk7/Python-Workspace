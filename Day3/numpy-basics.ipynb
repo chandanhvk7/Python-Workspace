{
 "cells": [
  {
   "cell_type": "code",
   "execution_count": 2,
   "id": "7b12ea8b-22a6-429f-94d8-83485ef105c7",
   "metadata": {},
   "outputs": [
    {
     "data": {
      "text/plain": [
       "array([5, 7, 9])"
      ]
     },
     "execution_count": 2,
     "metadata": {},
     "output_type": "execute_result"
    }
   ],
   "source": [
    "import numpy as np\n",
    "\n",
    "a=np.array([1,2,3])\n",
    "b=np.array([4,5,6])\n",
    "a+b"
   ]
  },
  {
   "cell_type": "code",
   "execution_count": 4,
   "id": "b6f3488f-5e38-4cfe-a1d6-31ce9c91d319",
   "metadata": {},
   "outputs": [
    {
     "data": {
      "text/plain": [
       "array([[0., 0., 0.],\n",
       "       [0., 0., 0.],\n",
       "       [0., 0., 0.]])"
      ]
     },
     "execution_count": 4,
     "metadata": {},
     "output_type": "execute_result"
    }
   ],
   "source": [
    "np.zeros([3,3])\n"
   ]
  },
  {
   "cell_type": "code",
   "execution_count": 5,
   "id": "bf68617f-cbb4-47e0-b0f3-92b00b7fa3d5",
   "metadata": {},
   "outputs": [
    {
     "data": {
      "text/plain": [
       "array([[1., 1., 1.],\n",
       "       [1., 1., 1.],\n",
       "       [1., 1., 1.]])"
      ]
     },
     "execution_count": 5,
     "metadata": {},
     "output_type": "execute_result"
    }
   ],
   "source": [
    "np.ones([3,3])"
   ]
  },
  {
   "cell_type": "code",
   "execution_count": 6,
   "id": "c4c9e306-41d7-408e-bbbc-3aa2b7751dc3",
   "metadata": {},
   "outputs": [
    {
     "data": {
      "text/plain": [
       "array([[0.37043051, 0.02150667, 0.24357075, 0.9638261 ],\n",
       "       [0.3712697 , 0.5075697 , 0.96878361, 0.59447729],\n",
       "       [0.00968949, 0.36574472, 0.63079534, 0.40968277]])"
      ]
     },
     "execution_count": 6,
     "metadata": {},
     "output_type": "execute_result"
    }
   ],
   "source": [
    "np.random.rand(3,4)"
   ]
  },
  {
   "cell_type": "code",
   "execution_count": 8,
   "id": "c857476e-ae07-4ddb-952e-a78b90596f88",
   "metadata": {},
   "outputs": [
    {
     "data": {
      "text/plain": [
       "array([[ 6,  7,  8],\n",
       "       [15, 25, 35]])"
      ]
     },
     "execution_count": 8,
     "metadata": {},
     "output_type": "execute_result"
    }
   ],
   "source": [
    "ar1=np.array([[1,2,3],[10,20,30]])\n",
    "ar2=np.array([5,5,5])\n",
    "ar1+ar2"
   ]
  },
  {
   "cell_type": "code",
   "execution_count": 9,
   "id": "79b304bc-1c9c-4815-a625-3a24a1537beb",
   "metadata": {},
   "outputs": [
    {
     "data": {
      "text/plain": [
       "array([144, 361, 400])"
      ]
     },
     "execution_count": 9,
     "metadata": {},
     "output_type": "execute_result"
    }
   ],
   "source": [
    "nums=np.array([12,19,20])\n",
    "np.square(nums)"
   ]
  },
  {
   "cell_type": "code",
   "execution_count": 10,
   "id": "367c65ff-6277-4186-8f75-979aa4b6f20b",
   "metadata": {},
   "outputs": [
    {
     "data": {
      "text/plain": [
       "array([1.62754791e+05, 1.78482301e+08, 4.85165195e+08])"
      ]
     },
     "execution_count": 10,
     "metadata": {},
     "output_type": "execute_result"
    }
   ],
   "source": [
    "np.exp(nums)"
   ]
  },
  {
   "cell_type": "code",
   "execution_count": 11,
   "id": "38c789c9-10b9-4584-9a7a-f276f205cc07",
   "metadata": {},
   "outputs": [
    {
     "data": {
      "text/plain": [
       "array([-0.53657292,  0.14987721,  0.91294525])"
      ]
     },
     "execution_count": 11,
     "metadata": {},
     "output_type": "execute_result"
    }
   ],
   "source": [
    "np.sin(nums)"
   ]
  },
  {
   "cell_type": "code",
   "execution_count": 12,
   "id": "e22c7054-fd06-4c15-aaf9-6412b9564a66",
   "metadata": {},
   "outputs": [
    {
     "data": {
      "text/plain": [
       "20"
      ]
     },
     "execution_count": 12,
     "metadata": {},
     "output_type": "execute_result"
    }
   ],
   "source": [
    "np.max(nums)"
   ]
  },
  {
   "cell_type": "code",
   "execution_count": 13,
   "id": "74b49e46-d3dc-4ca9-83f1-30ffe150c7fe",
   "metadata": {},
   "outputs": [
    {
     "data": {
      "text/plain": [
       "51"
      ]
     },
     "execution_count": 13,
     "metadata": {},
     "output_type": "execute_result"
    }
   ],
   "source": [
    "np.sum(nums)"
   ]
  },
  {
   "cell_type": "code",
   "execution_count": 16,
   "id": "06351758-2142-43fb-9aa3-2170b3eae8ac",
   "metadata": {},
   "outputs": [
    {
     "data": {
      "text/plain": [
       "(3,)"
      ]
     },
     "execution_count": 16,
     "metadata": {},
     "output_type": "execute_result"
    }
   ],
   "source": [
    "np.shape(nums)"
   ]
  },
  {
   "cell_type": "code",
   "execution_count": 17,
   "id": "37cc318b-04d2-4f19-bf30-6bd0be8e2f3e",
   "metadata": {},
   "outputs": [
    {
     "data": {
      "text/plain": [
       "17.0"
      ]
     },
     "execution_count": 17,
     "metadata": {},
     "output_type": "execute_result"
    }
   ],
   "source": [
    "np.average(nums)"
   ]
  },
  {
   "cell_type": "code",
   "execution_count": 18,
   "id": "79adcc3c-b5ab-463e-a1d5-8a3aaa237c0d",
   "metadata": {},
   "outputs": [
    {
     "data": {
      "text/plain": [
       "17.0"
      ]
     },
     "execution_count": 18,
     "metadata": {},
     "output_type": "execute_result"
    }
   ],
   "source": [
    "np.mean(nums)"
   ]
  },
  {
   "cell_type": "code",
   "execution_count": 19,
   "id": "83eefa94-34d4-4eae-ba6f-4f38f581dcf3",
   "metadata": {},
   "outputs": [
    {
     "data": {
      "text/plain": [
       "19.0"
      ]
     },
     "execution_count": 19,
     "metadata": {},
     "output_type": "execute_result"
    }
   ],
   "source": [
    "np.median(nums)\n"
   ]
  },
  {
   "cell_type": "code",
   "execution_count": 21,
   "id": "bb33c9f4-c8d2-475b-b81b-7cb1454a9258",
   "metadata": {},
   "outputs": [
    {
     "data": {
      "text/plain": [
       "array([[6]])"
      ]
     },
     "execution_count": 21,
     "metadata": {},
     "output_type": "execute_result"
    }
   ],
   "source": [
    "arr=np.array([[1,2,3],[4,5,6],[7,8,9]])\n",
    "arr[1:2,2:]"
   ]
  },
  {
   "cell_type": "code",
   "execution_count": null,
   "id": "49ade18e-472c-4ac0-95cd-d75e92de0b5d",
   "metadata": {},
   "outputs": [],
   "source": []
  }
 ],
 "metadata": {
  "kernelspec": {
   "display_name": "Python 3 (ipykernel)",
   "language": "python",
   "name": "python3"
  },
  "language_info": {
   "codemirror_mode": {
    "name": "ipython",
    "version": 3
   },
   "file_extension": ".py",
   "mimetype": "text/x-python",
   "name": "python",
   "nbconvert_exporter": "python",
   "pygments_lexer": "ipython3",
   "version": "3.11.2"
  }
 },
 "nbformat": 4,
 "nbformat_minor": 5
}
